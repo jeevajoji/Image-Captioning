{
 "cells": [
  {
   "cell_type": "code",
   "execution_count": null,
   "metadata": {},
   "outputs": [],
   "source": [
    "from transformers import AutoImageProcessor, AutoTokenizer, VisionEncoderDecoderModel\n",
    "from torch.utils.data import DataLoader\n",
    "from tqdm.auto import tqdm"
   ]
  },
  {
   "cell_type": "code",
   "execution_count": null,
   "metadata": {},
   "outputs": [],
   "source": [
    "!pip install -U accelerate\n",
    "!pip install -U transformers\n",
    "!pip install transformers[torch]\n",
    "!pip install accelerate -U\n",
    "!pip install rouge_score\n",
    "!pip install evaluate"
   ]
  },
  {
   "cell_type": "code",
   "execution_count": null,
   "metadata": {},
   "outputs": [],
   "source": [
    "# Load the model\n",
    "image_processor = AutoImageProcessor.from_pretrained(\"google/vit-large-patch16-224-in21k\")\n",
    "decoder_tokenizer = AutoTokenizer.from_pretrained(\"bert-large-uncased\", add_special_tokens=True)\n",
    "\n",
    "model = VisionEncoderDecoderModel.from_encoder_decoder_pretrained(\"google/vit-large-patch16-224-in21k\", \"bert-large-uncased\")"
   ]
  },
  {
   "cell_type": "code",
   "execution_count": null,
   "metadata": {},
   "outputs": [],
   "source": [
    "batch_size = 1\n",
    "epochs = 1"
   ]
  },
  {
   "cell_type": "code",
   "execution_count": null,
   "metadata": {},
   "outputs": [],
   "source": [
    "train_dataloader = DataLoader(train_dataset, shuffle=True, batch_size=batch_size, collate_fn=collate_fn)"
   ]
  },
  {
   "cell_type": "code",
   "execution_count": null,
   "metadata": {},
   "outputs": [],
   "source": [
    "from torch.optim import AdamW\n",
    "optimizer = AdamW(model.parameters(), lr=5e-5)\n",
    "\n",
    "from transformers import get_scheduler\n",
    "num_training_steps = epochs * len(train_dataloader)\n",
    "lr_scheduler = get_scheduler( name=\"linear\", optimizer=optimizer, num_warmup_steps=int(num_training_steps/5), num_training_steps=num_training_steps )\n",
    "\n",
    "if torch.cuda.is_available():\n",
    "    device = torch.device(\"cuda\")\n",
    "else:\n",
    "    print('No GPU available, using the CPU instead.')\n",
    "    device = torch.device(\"cpu\")\n",
    "    \n",
    "model.to(device)"
   ]
  },
  {
   "cell_type": "code",
   "execution_count": null,
   "metadata": {},
   "outputs": [],
   "source": [
    "# Train the model\n",
    "model.train()\n",
    "progress_bar = tqdm(range(num_training_steps), desc='Training')\n",
    "for epoch in range(epochs):\n",
    "    losses = []\n",
    "    for batch in train_dataloader:\n",
    "        batch = {k: v.to(device) for k, v in batch.items()}\n",
    "        outputs = model(pixel_values = batch['pixel_values'], labels=batch['caption_token']) \n",
    "        loss = outputs.loss\n",
    "        loss.backward()\n",
    "        optimizer.step()\n",
    "        lr_scheduler.step()\n",
    "        optimizer.zero_grad()\n",
    "        losses.append(loss)\n",
    "        \n",
    "        torch.cuda.empty_cache()\n",
    "        progress_bar.update(1)\n",
    "        \n",
    "    if epoch in [2,4,6,8,10]: \n",
    "        model.save_pretrained(f\"Save_at_{epoch}_epochs.pt\")\n",
    "        print(f'Saved at {epoch}')\n",
    "        \n",
    "    print('Epoch: {}, Loss: {}'.format(epoch, sum(losses)))\n",
    "    \n",
    "    # Evaluate the model on the training set\n",
    "    model.eval()\n",
    "    total_correct = 0\n",
    "    total_samples = 0\n",
    "    with torch.no_grad():\n",
    "        for batch in train_dataloader:\n",
    "            batch = {k: v.to(device) for k, v in batch.items()}\n",
    "            outputs = model(pixel_values=batch['pixel_values'], labels=batch['caption_token'])\n",
    "            logits = outputs.logits\n",
    "            predicted_ids = torch.argmax(logits, dim=-1)\n",
    "            \n",
    "            # Calculate the accuracy\n",
    "            correct = (predicted_ids == batch['caption_token']).sum().item()\n",
    "            total_correct += correct\n",
    "            total_samples += batch['caption_token'].size(0)\n",
    "    \n",
    "    accuracy = total_correct / total_samples\n",
    "    print(f'Epoch {epoch} Accuracy: {accuracy:.4f}')\n",
    "    \n",
    "    model.train()"
   ]
  },
  {
   "cell_type": "code",
   "execution_count": null,
   "metadata": {},
   "outputs": [],
   "source": [
    "# Save the final model\n",
    "model.save_pretrained(\"final-model.pt\")"
   ]
  }
 ],
 "metadata": {
  "kernelspec": {
   "display_name": "Python 3",
   "language": "python",
   "name": "python3"
  },
  "language_info": {
   "codemirror_mode": {
    "name": "ipython",
    "version": 3
   },
   "file_extension": ".py",
   "mimetype": "text/x-python",
   "name": "python",
   "nbconvert_exporter": "python",
   "pygments_lexer": "ipython3",
   "version": "3.12.3"
  }
 },
 "nbformat": 4,
 "nbformat_minor": 2
}
