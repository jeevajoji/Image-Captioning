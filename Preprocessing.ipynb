{
 "cells": [
  {
   "cell_type": "code",
   "execution_count": null,
   "metadata": {},
   "outputs": [],
   "source": [
    "!pip install -U accelerate\n",
    "!pip install -U transformers\n",
    "!pip install transformers[torch]\n",
    "!pip install accelerate -U\n",
    "!pip install rouge_score\n",
    "!pip install evaluate"
   ]
  },
  {
   "cell_type": "code",
   "execution_count": null,
   "metadata": {},
   "outputs": [],
   "source": [
    "import pandas as pd\n",
    "import numpy as np\n",
    "from PIL import Image\n",
    "from transformers import AutoTokenizer\n",
    "import os\n",
    "from tqdm.auto import tqdm"
   ]
  },
  {
   "cell_type": "code",
   "execution_count": null,
   "metadata": {},
   "outputs": [],
   "source": [
    "# Load the captions data\n",
    "text_data = pd.read_csv(r\"C:\\Users\\jeeva\\Downloads\\archive\\captions.txt\", sep='|')\n",
    "text_data.rename(columns={\"comment_number\":\"image_repeat\",\"comment\":\"caption\"},inplace=True)\n",
    "text_data_train = text_data\n",
    "text_data_train.head()"
   ]
  },
  {
   "cell_type": "code",
   "execution_count": null,
   "metadata": {},
   "outputs": [],
   "source": [
    "# Create the ImageCaptionDataset\n",
    "from torch.utils.data import Dataset\n",
    "from torch.nn.utils.rnn import pad_sequence\n",
    "\n",
    "image_height = 224\n",
    "image_width = 224"
   ]
  },
  {
   "cell_type": "code",
   "execution_count": null,
   "metadata": {},
   "outputs": [],
   "source": [
    "class ImageCaptionDataset(Dataset):\n",
    "    def __init__(self, image_path, text_path, tokenizer, image_height,image_width,image_processor ):\n",
    "        self.image_path = image_path\n",
    "        self.text_path = text_path\n",
    "        self.tokenizer = tokenizer\n",
    "        self.image_height = image_height\n",
    "        self.image_width = image_width\n",
    "        self.image_processor=image_processor \n",
    "    def __len__(self):\n",
    "        return len(os.listdir(self.image_path))\n",
    "    \n",
    "    def __getitem__(self, index):\n",
    "        image_file = os.listdir(self.image_path)[index]\n",
    "        image_path = os.path.join(self.image_path, image_file)\n",
    "        image = Image.open(image_path).convert('RGB')\n",
    "        image = self.image_processor(images=[image], return_tensors='pt').pixel_values\n",
    "        \n",
    "        text_file = os.listdir(self.text_path)[index]\n",
    "        text_path = os.path.join(self.text_path, text_file)\n",
    "        with open(text_path, 'r') as f:\n",
    "            caption = f.read().strip()\n",
    "        caption_token = self.tokenizer(caption, add_special_tokens=True, padding=\"max_length\", max_length=32, truncation=True).input_ids\n",
    "        caption_token = [token if token != self.tokenizer.pad_token_id else -100 for token in caption_token]\n",
    "        return {\"pixel_values\": image.squeeze(), \"caption_token\": torch.tensor(caption_token)}\n",
    "\n",
    "def collate_fn(batch):\n",
    "    pixel_values = [item[\"pixel_values\"] for item in batch]\n",
    "    caption_tokens = [item[\"caption_token\"] for item in batch]\n",
    "    \n",
    "    pixel_values = pad_sequence(pixel_values, batch_first=True)\n",
    "    caption_tokens = pad_sequence(caption_tokens, batch_first=True, padding_value=decoder_tokenizer.pad_token_id)\n",
    "    \n",
    "    return {\"pixel_values\": pixel_values, \"caption_token\": caption_tokens}"
   ]
  },
  {
   "cell_type": "code",
   "execution_count": null,
   "metadata": {},
   "outputs": [],
   "source": [
    "# Save the preprocessed data\n",
    "import os\n",
    "image_folder = '/kaggle/input/preprocessed_images/'\n",
    "if not os.path.exists(image_folder):\n",
    "    os.makedirs(image_folder)\n",
    "\n",
    "text_folder = '/kaggle/input/preprocessed_captions/'\n",
    "if not os.path.exists(text_folder):\n",
    "    os.makedirs(text_folder)"
   ]
  },
  {
   "cell_type": "code",
   "execution_count": null,
   "metadata": {},
   "outputs": [],
   "source": [
    "image_files = os.listdir(image_folder)\n",
    "text_files = os.listdir(text_folder)\n",
    "\n",
    "progress_bar = tqdm(range(len(image_files)), desc='Preprocessing')\n",
    "for i, (image_file, text_file) in enumerate(zip(image_files, text_files)):\n",
    "    image = Image.open(os.path.join(image_folder, image_file)).convert('RGB')\n",
    "    image.save(os.path.join(image_folder, image_file))\n",
    "    \n",
    "    with open(os.path.join(text_folder, text_file), 'w') as f:\n",
    "        f.write(text_data_train.iloc[i]['caption'])\n",
    "    \n",
    "    progress_bar.update(1)\n",
    "\n",
    "train_dataset = ImageCaptionDataset(image_path=r\"C:\\Users\\jeeva\\Downloads\\archive\\images\", text_path=r\"C:\\Users\\jeeva\\Downloads\\archive\\captions.txt\", tokenizer=decoder_tokenizer, image_height=224, image_width=224, image_processor=image_processor)"
   ]
  },
  {
   "cell_type": "code",
   "execution_count": null,
   "metadata": {},
   "outputs": [],
   "source": []
  }
 ],
 "metadata": {
  "kernelspec": {
   "display_name": "Python 3",
   "language": "python",
   "name": "python3"
  },
  "language_info": {
   "codemirror_mode": {
    "name": "ipython",
    "version": 3
   },
   "file_extension": ".py",
   "mimetype": "text/x-python",
   "name": "python",
   "nbconvert_exporter": "python",
   "pygments_lexer": "ipython3",
   "version": "3.12.3"
  }
 },
 "nbformat": 4,
 "nbformat_minor": 2
}
