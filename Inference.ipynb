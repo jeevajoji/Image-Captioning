{
 "cells": [
  {
   "cell_type": "code",
   "execution_count": null,
   "metadata": {},
   "outputs": [],
   "source": [
    "import os\n",
    "import matplotlib.pyplot as plt\n",
    "from PIL import Image\n",
    "import numpy as np"
   ]
  },
  {
   "cell_type": "code",
   "execution_count": null,
   "metadata": {},
   "outputs": [],
   "source": [
    "def generate_caption(image_path, model, tokenizer, image_processor, device):\n",
    "    # Load and preprocess the image\n",
    "    image = Image.open(image_path).convert('RGB')\n",
    "    image = image_processor(images=[image], return_tensors='pt').pixel_values\n",
    "    \n",
    "    # Generate the caption\n",
    "    output_ids = model.generate(\n",
    "        pixel_values=image,\n",
    "        max_length=32,\n",
    "        num_beams=4,\n",
    "        early_stopping=True,\n",
    "        decoder_start_token_id=tokenizer.cls_token_id,\n",
    "        pad_token_id=tokenizer.pad_token_id,\n",
    "        eos_token_id=tokenizer.sep_token_id\n",
    "    )\n",
    "    \n",
    "    # Decode the generated token IDs into a caption string\n",
    "    generated_caption = tokenizer.decode(output_ids[0], skip_special_tokens=True)\n",
    "    \n",
    "    # Display the image and print the generated caption\n",
    "    image = np.moveaxis(image[0].cpu().numpy(), 0, -1)\n",
    "    plt.figure(figsize=(4, 4))\n",
    "    plt.imshow(image)\n",
    "    plt.axis('off')\n",
    "    plt.show()\n",
    "    print(\"Generated Caption:\", generated_caption)\n",
    "    \n",
    "    return generated_caption"
   ]
  },
  {
   "cell_type": "code",
   "execution_count": null,
   "metadata": {},
   "outputs": [],
   "source": [
    "# Load the trained model\n",
    "model = VisionEncoderDecoderModel.from_pretrained(\"/kaggle/working/final-model.pt\").to('cuda')"
   ]
  },
  {
   "cell_type": "code",
   "execution_count": null,
   "metadata": {},
   "outputs": [],
   "source": [
    "image_folder = '/kaggle/input/impoleds/'\n",
    "image_files = ['im1.png','im2.png','im3.png','im4.png','im5.png','im6.png','im7.png','im8.png','im14.png','im9.jpg','im10.jpg','im11.jpg','im12.jpg','im13.jpg','im15.jpg','im16.jpg']\n",
    "\n",
    "for image_file in image_files:\n",
    "    image_path = os.path.join(image_folder, image_file)\n",
    "    pred_caption = generate_caption(\n",
    "        image_path=image_path,\n",
    "        model=model.to('cuda'),\n",
    "        tokenizer=decoder_tokenizer,\n",
    "        image_processor=image_processor,\n",
    "        device=device\n",
    "    )"
   ]
  }
 ],
 "metadata": {
  "kernelspec": {
   "display_name": "Python 3",
   "language": "python",
   "name": "python3"
  },
  "language_info": {
   "name": "python",
   "version": "3.12.3"
  }
 },
 "nbformat": 4,
 "nbformat_minor": 2
}
